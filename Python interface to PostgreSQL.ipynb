{
 "cells": [
  {
   "cell_type": "markdown",
   "metadata": {},
   "source": [
    "Python interface to PostgreSQL  # Rocky Wang"
   ]
  },
  {
   "cell_type": "code",
   "execution_count": 1,
   "metadata": {
    "tags": []
   },
   "outputs": [],
   "source": [
    "#!pip install -U \"psycopg[binary]\""
   ]
  },
  {
   "cell_type": "markdown",
   "metadata": {},
   "source": [
    "#### Connect to the local PostgreSQL database running as Docker container"
   ]
  },
  {
   "cell_type": "code",
   "execution_count": 1,
   "metadata": {},
   "outputs": [
    {
     "name": "stdout",
     "output_type": "stream",
     "text": [
      "Connecting to the PostgreSQL database...\n"
     ]
    }
   ],
   "source": [
    "import psycopg, os\n",
    "\n",
    "print('Connecting to the PostgreSQL database...')\n",
    "conn = psycopg.connect(\n",
    "    host=\"localhost\",\n",
    "    port='5432',\n",
    "    dbname=\"School\",\n",
    "    user=\"postgres\",\n",
    "    password=\"-----\")"
   ]
  },
  {
   "cell_type": "code",
   "execution_count": 2,
   "metadata": {},
   "outputs": [],
   "source": [
    "# create a cursor\n",
    "cur = conn.cursor()"
   ]
  },
  {
   "cell_type": "code",
   "execution_count": 3,
   "metadata": {},
   "outputs": [
    {
     "name": "stdout",
     "output_type": "stream",
     "text": [
      "PostgreSQL database version:\n",
      "('PostgreSQL 14.1, compiled by Visual C++ build 1914, 64-bit',)\n"
     ]
    }
   ],
   "source": [
    "       \n",
    "# execute a statement\n",
    "print('PostgreSQL database version:')\n",
    "cur.execute('SELECT version()')\n",
    "\n",
    "# display the PostgreSQL database server version\n",
    "db_version = cur.fetchone()\n",
    "print(db_version)\n",
    "       \n",
    "createCmd = \"\"\" CREATE TABLE company (\n",
    "                ID SERIAL PRIMARY KEY,\n",
    "                name VARCHAR(255) NOT NULL,\n",
    "                headquarter_city VARCHAR(255) NOT NULL,\n",
    "                CEO VARCHAR(255) NOT NULL,\n",
    "                founding_year INTEGER NOT NULL\n",
    "                );\n",
    "                \n",
    "                CREATE TABLE CEO (\n",
    "                ID SERIAL PRIMARY KEY,\n",
    "                first_name VARCHAR(255) NOT NULL,\n",
    "                last_name VARCHAR(255) NOT NULL,\n",
    "                year_of_birth INTEGER NOT NULL,\n",
    "                place_of_birth VARCHAR(255) NOT NULL,\n",
    "                year_become_CEO INTEGER NOT NULL\n",
    "                );\n",
    "                \n",
    "                CREATE TABLE city (\n",
    "                city VARCHAR(255) PRIMARY KEY,\n",
    "                state VARCHAR(255),\n",
    "                country VARCHAR(255) NOT NULL\n",
    "                )\n",
    "            \"\"\"\n",
    "    \n",
    "cur.execute(createCmd)\n",
    "conn.commit()\n"
   ]
  },
  {
   "cell_type": "code",
   "execution_count": 4,
   "metadata": {},
   "outputs": [],
   "source": [
    "#insert records into company table\n",
    "\n",
    "cur.execute(\"INSERT into company VALUES(1, 'Apple', 'Cupertino', 'Tim Cook', '1976')\")\n",
    "cur.execute(\"INSERT into company VALUES(2, 'IBM', 'Armonk', 'Arvind Krishna', '1922')\")\n",
    "cur.execute(\"INSERT into company VALUES(3, 'Amazon', 'Seattle', 'Andy Jassy', '1994')\")\n",
    "cur.execute(\"INSERT into company VALUES(4, 'General Motors', 'Detroit', 'Mary Barra', '1908')\")\n",
    "cur.execute(\"INSERT into company VALUES(5, 'Sony Corporation', 'Tokyo', 'Kenichiro Yoshida', '1946')\")\n",
    "cur.execute(\"INSERT into company VALUES(6, 'Alibaba', 'Hangzhou', 'Daniel Zhang', '1999')\")\n",
    "cur.execute(\"INSERT into company VALUES(7, 'Kering SA', 'Paris', 'François-Henri Pinault', '1963')\")\n",
    "cur.execute(\"INSERT into company VALUES(8, 'Samsung Electronics', 'Suwon', 'Lee Jae-yong', '1969')\")\n",
    "cur.execute(\"INSERT into company VALUES(9, 'Walmart ', 'Bentonville', 'Doug McMillon', '1962')\")\n",
    "conn.commit()"
   ]
  },
  {
   "cell_type": "code",
   "execution_count": 5,
   "metadata": {},
   "outputs": [],
   "source": [
    "#insert records into CEO table\n",
    "\n",
    "cur.execute(\"INSERT into CEO VALUES(1, 'Tim ', 'Cook', '1960', 'Mobile', '2011')\")\n",
    "cur.execute(\"INSERT into CEO VALUES(2, 'Arvind', 'Krishna', '1962', 'West Godavari', '2020')\")\n",
    "cur.execute(\"INSERT into CEO VALUES(3, 'Andy', 'Jassy', '1968', 'Scarsdale', '2021')\")\n",
    "cur.execute(\"INSERT into CEO VALUES(4, 'Mary', 'Barra', '1961', 'Royal Oak', '2014')\")\n",
    "cur.execute(\"INSERT into CEO VALUES(5, 'Kenichiro', 'Yoshida', '1959', 'Kumamoto', '2018')\")\n",
    "cur.execute(\"INSERT into CEO VALUES(6, 'Daniel', 'Zhang', '1972', 'Shanghai', '2015')\")\n",
    "cur.execute(\"INSERT into CEO VALUES(7, 'François-Henri', 'Pinault', '1962', 'Rennes', '2005')\")\n",
    "cur.execute(\"INSERT into CEO VALUES(8, 'Lee', 'Jae-yong', '1968', 'Seoul', '2022')\")\n",
    "cur.execute(\"INSERT into CEO VALUES(9, 'Doug', 'McMillon', '1966', 'Memphis', '2014')\")\n",
    "conn.commit()"
   ]
  },
  {
   "cell_type": "code",
   "execution_count": 6,
   "metadata": {},
   "outputs": [],
   "source": [
    "#insert records into city table\n",
    "\n",
    "cur.execute(\"INSERT into city VALUES('Mobile', 'AL', 'USA')\")\n",
    "cur.execute(\"INSERT into city VALUES('Cupertino', 'CA', 'USA')\")\n",
    "cur.execute(\"INSERT into city VALUES('West Godavari', 'Andhra-Pradesh', 'India')\")\n",
    "cur.execute(\"INSERT into city VALUES('Armonk', 'NY', 'USA')\")\n",
    "cur.execute(\"INSERT into city VALUES('Scarsdale', 'NY', 'USA')\")\n",
    "cur.execute(\"INSERT into city VALUES('Seattle', 'WA', 'USA')\")\n",
    "cur.execute(\"INSERT into city VALUES('Royal Oak', 'MI', 'USA')\")\n",
    "cur.execute(\"INSERT into city VALUES('Detroit', 'MI', 'USA')\")\n",
    "cur.execute(\"INSERT into city VALUES('Kumamoto', '', 'Japan')\")\n",
    "\n",
    "cur.execute(\"INSERT into city VALUES('Tokyo', '', 'Japan')\")\n",
    "cur.execute(\"INSERT into city VALUES('Shanghai', '', 'China')\")\n",
    "cur.execute(\"INSERT into city VALUES('Hangzhou', 'Zhejiang', 'China')\")\n",
    "cur.execute(\"INSERT into city VALUES('Rennes', 'Illes-et-Villaine', 'France')\")\n",
    "cur.execute(\"INSERT into city VALUES('Paris', '', 'France')\")\n",
    "cur.execute(\"INSERT into city VALUES('Seoul', '', 'South Korea')\")\n",
    "cur.execute(\"INSERT into city VALUES('Suwon', 'Gyeonggi-do', 'South Korea')\")\n",
    "cur.execute(\"INSERT into city VALUES('Memphis', 'TN', 'USA')\")\n",
    "cur.execute(\"INSERT into city VALUES('Bentonville', 'Arkansas', 'USA')\")\n",
    "conn.commit()"
   ]
  },
  {
   "cell_type": "code",
   "execution_count": 7,
   "metadata": {},
   "outputs": [
    {
     "name": "stdout",
     "output_type": "stream",
     "text": [
      "Age: 61  Company: Walmart \n"
     ]
    }
   ],
   "source": [
    "#What’s the age of the company whose CEO was born in the state of Tennessee?\n",
    "\n",
    "queryCmd = \"\"\"\n",
    "            WITH CTE as (\n",
    "            SELECT CONCAT(first_name,' ',last_name) AS ceo, state\n",
    "            FROM CEO, city WHERE CEO.place_of_birth = city.city)\n",
    "\n",
    "            SELECT (EXTRACT('Year' FROM CURRENT_DATE) - founding_year) AS age, name\n",
    "            from company\n",
    "            WHERE CEO = (SELECT ceo from CTE WHERE state='TN')\n",
    "            \"\"\"    \n",
    "cur.execute(queryCmd)    \n",
    "\n",
    "\n",
    "row = cur.fetchone()\n",
    "while row is not None:\n",
    "    print(\"Age:\", row[0], \" Company:\", row[1])\n",
    "    row = cur.fetchone()    "
   ]
  },
  {
   "cell_type": "code",
   "execution_count": 9,
   "metadata": {},
   "outputs": [
    {
     "name": "stdout",
     "output_type": "stream",
     "text": [
      "CEO: Arvind Krishna  Company: IBM  Founding year: 1922\n",
      "CEO: Mary Barra  Company: General Motors  Founding year: 1908\n",
      "CEO: Doug McMillon  Company: Walmart   Founding year: 1962\n"
     ]
    }
   ],
   "source": [
    "#What are the full names of CEOs of companies founded in the USA before 1965?\n",
    "\n",
    "queryCmd = \"\"\"\n",
    "            SELECT c.CEO, c.name, c.founding_year\n",
    "            FROM company c JOIN city t ON c.headquarter_city = t.city\n",
    "            WHERE t.country = 'USA' AND c.founding_year < 1965\n",
    "            \"\"\"    \n",
    "cur.execute(queryCmd)    \n",
    "\n",
    "\n",
    "row = cur.fetchone()\n",
    "while row is not None:\n",
    "    print(\"CEO:\", row[0], \" Company:\", row[1], \" Founding year:\", row[2])\n",
    "    row = cur.fetchone()       "
   ]
  },
  {
   "cell_type": "code",
   "execution_count": 10,
   "metadata": {},
   "outputs": [
    {
     "name": "stdout",
     "output_type": "stream",
     "text": [
      "company: Amazon  CEO: Andy Jassy  Age: 55\n",
      "company: Alibaba  CEO: Daniel Zhang  Age: 51\n",
      "company: Samsung Electronics  CEO: Lee Jae-yong  Age: 55\n",
      "company: Walmart   CEO: Doug McMillon  Age: 57\n"
     ]
    }
   ],
   "source": [
    "#Which companies have CEOs who are younger than 60?\n",
    "\n",
    "queryCmd = \"\"\"\n",
    "            WITH CTE as (\n",
    "            SELECT CONCAT(first_name,' ',last_name) AS ceo, (EXTRACT('Year' FROM CURRENT_DATE) - year_of_birth) AS age\n",
    "            FROM CEO )\n",
    "\n",
    "            SELECT c.name, c.CEO, o.age\n",
    "            FROM company c JOIN CTE o on c.CEO = o.ceo\n",
    "            WHERE age < 60\n",
    "            \"\"\"    \n",
    "cur.execute(queryCmd)    \n",
    "\n",
    "\n",
    "row = cur.fetchone()\n",
    "while row is not None:\n",
    "    print(\"company:\", row[0], \" CEO:\", row[1], \" Age:\", row[2])\n",
    "    row = cur.fetchone()     "
   ]
  },
  {
   "cell_type": "code",
   "execution_count": 11,
   "metadata": {},
   "outputs": [
    {
     "name": "stdout",
     "output_type": "stream",
     "text": [
      "Headquarter: Armonk  Company: IBM  CEO: Arvind Krishna  Borth conutry: India\n"
     ]
    }
   ],
   "source": [
    "#What is the headquarter city of the company whose CEO was born in India?\n",
    "\n",
    "queryCmd = \"\"\"\n",
    "            WITH CTE as (\n",
    "            SELECT CONCAT(first_name,' ',last_name) AS ceo, state, country\n",
    "            FROM CEO, city WHERE CEO.place_of_birth = city.city)\n",
    "\n",
    "            SELECT c.headquarter_city, c.name, c.CEO, o.country\n",
    "            FROM company c JOIN CTE o ON c.CEO = o.ceo\n",
    "            WHERE o.country = 'India'\n",
    "            \"\"\"    \n",
    "cur.execute(queryCmd)    \n",
    "\n",
    "\n",
    "row = cur.fetchone()\n",
    "while row is not None:\n",
    "    print(\"Headquarter:\", row[0], \" Company:\", row[1], \" CEO:\", row[2], \" Borth conutry:\", row[3])\n",
    "    row = cur.fetchone()"
   ]
  },
  {
   "cell_type": "code",
   "execution_count": 12,
   "metadata": {},
   "outputs": [
    {
     "name": "stdout",
     "output_type": "stream",
     "text": [
      "company: IBM  CEO: Arvind Krishna  year_become_ceo: 2020\n",
      "company: Amazon  CEO: Andy Jassy  year_become_ceo: 2021\n",
      "company: Sony Corporation  CEO: Kenichiro Yoshida  year_become_ceo: 2018\n",
      "company: Alibaba  CEO: Daniel Zhang  year_become_ceo: 2015\n",
      "company: Samsung Electronics  CEO: Lee Jae-yong  year_become_ceo: 2022\n"
     ]
    }
   ],
   "source": [
    "#Which companies have CEOs who started in their positions after 2014? \n",
    "\n",
    "queryCmd = \"\"\"\n",
    "            SELECT c.name, c.CEO, o.year_become_ceo\n",
    "            FROM company c, CEO o\n",
    "            WHERE c.id = o.id AND o.year_become_ceo > 2014\n",
    "            \"\"\"    \n",
    "cur.execute(queryCmd)    \n",
    "\n",
    "\n",
    "row = cur.fetchone()\n",
    "while row is not None:\n",
    "    print(\"company:\", row[0], \" CEO:\", row[1], \" year_become_ceo:\", row[2])\n",
    "    row = cur.fetchone()   "
   ]
  },
  {
   "cell_type": "markdown",
   "metadata": {},
   "source": [
    "#### Delete the table that you created to avoid errors trying to recreate the table"
   ]
  },
  {
   "cell_type": "code",
   "execution_count": 13,
   "metadata": {},
   "outputs": [
    {
     "data": {
      "text/plain": [
       "<psycopg.Cursor [COMMAND_OK] [INTRANS] (host=localhost user=postgres database=School) at 0x1c6e6ef80f0>"
      ]
     },
     "execution_count": 13,
     "metadata": {},
     "output_type": "execute_result"
    }
   ],
   "source": [
    "cur.execute(\"DROP TABLE company\")"
   ]
  },
  {
   "cell_type": "code",
   "execution_count": 14,
   "metadata": {},
   "outputs": [
    {
     "data": {
      "text/plain": [
       "<psycopg.Cursor [COMMAND_OK] [INTRANS] (host=localhost user=postgres database=School) at 0x1c6e6ef80f0>"
      ]
     },
     "execution_count": 14,
     "metadata": {},
     "output_type": "execute_result"
    }
   ],
   "source": [
    "cur.execute(\"DROP TABLE CEO\")"
   ]
  },
  {
   "cell_type": "code",
   "execution_count": 15,
   "metadata": {},
   "outputs": [
    {
     "data": {
      "text/plain": [
       "<psycopg.Cursor [COMMAND_OK] [INTRANS] (host=localhost user=postgres database=School) at 0x1c6e6ef80f0>"
      ]
     },
     "execution_count": 15,
     "metadata": {},
     "output_type": "execute_result"
    }
   ],
   "source": [
    "cur.execute(\"DROP TABLE city\")"
   ]
  },
  {
   "cell_type": "code",
   "execution_count": 16,
   "metadata": {},
   "outputs": [],
   "source": [
    "# close the communication with the PostgreSQL\n",
    "cur.close()"
   ]
  },
  {
   "cell_type": "code",
   "execution_count": null,
   "metadata": {},
   "outputs": [],
   "source": []
  }
 ],
 "metadata": {
  "kernelspec": {
   "display_name": "Python 3 (ipykernel)",
   "language": "python",
   "name": "python3"
  },
  "language_info": {
   "codemirror_mode": {
    "name": "ipython",
    "version": 3
   },
   "file_extension": ".py",
   "mimetype": "text/x-python",
   "name": "python",
   "nbconvert_exporter": "python",
   "pygments_lexer": "ipython3",
   "version": "3.9.13"
  }
 },
 "nbformat": 4,
 "nbformat_minor": 4
}
